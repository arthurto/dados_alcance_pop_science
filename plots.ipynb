{
 "cells": [
  {
   "cell_type": "code",
   "execution_count": 184,
   "id": "10b650a4-e719-45ba-b3fb-2b1a939fc149",
   "metadata": {},
   "outputs": [],
   "source": [
    "# importando as bibliotecas utilizadas\n",
    "import numpy as np \n",
    "import pandas as pd\n",
    "import matplotlib.pyplot as plt \n",
    "import scienceplots \n",
    "import matplotlib.ticker as mtick\n",
    "\n",
    "from mpl_toolkits.axes_grid1.inset_locator import inset_axes\n",
    "\n",
    "plt.style.use('science')"
   ]
  },
  {
   "cell_type": "code",
   "execution_count": 139,
   "id": "f379f131-3f41-48ac-aaa0-3464155596a9",
   "metadata": {},
   "outputs": [],
   "source": [
    "# importando os dados \n",
    "\n",
    "alcance_data = pd.read_csv(\"Alcance.csv\",skiprows=2,encoding=\"utf-16\")\n",
    "genero_idade_data = pd.read_csv(\"seg_genero_idade.csv\",skiprows=2)\n",
    "paises_data = pd.read_csv(\"seg_paises.csv\",skiprows=2)\n",
    "cidades_data = pd.read_csv(\"seg_cidades.csv\",skiprows=2)\n",
    "visitas_data = pd.read_csv(\"Visitas.csv\",skiprows=2,encoding=\"utf-16\")"
   ]
  },
  {
   "cell_type": "code",
   "execution_count": 140,
   "id": "e4288b5a-7bac-4abb-840f-4390a9f6a5c2",
   "metadata": {},
   "outputs": [],
   "source": [
    "# Convertendo datas de string para formato date-time \n",
    "\n",
    "visitas_data.Data = pd.to_datetime(visitas_data.Data)\n",
    "alcance_data.Data = pd.to_datetime(alcance_data.Data)\n",
    "\n",
    "# convertendo porcentagens em números \\in [0,1] \n",
    "genero_idade_data.Mulheres = pd.to_numeric(genero_idade_data.Mulheres.str[:-1].str.replace(',','.'))/100\n",
    "genero_idade_data.Homens = pd.to_numeric(genero_idade_data.Homens.str[:-1].str.replace(',','.'))/100\n",
    "\n",
    "paises_data.Valor = pd.to_numeric(paises_data.Valor.str[:-1].str.replace(',','.'))/100\n",
    "\n",
    "cidades_data.Valor = pd.to_numeric(cidades_data.Valor.str[:-1].str.replace(',','.'))/100"
   ]
  },
  {
   "cell_type": "code",
   "execution_count": 141,
   "id": "9be316fd-610b-4da6-ad3e-4a0e7d55b4e8",
   "metadata": {},
   "outputs": [
    {
     "data": {
      "text/html": [
       "<div>\n",
       "<style scoped>\n",
       "    .dataframe tbody tr th:only-of-type {\n",
       "        vertical-align: middle;\n",
       "    }\n",
       "\n",
       "    .dataframe tbody tr th {\n",
       "        vertical-align: top;\n",
       "    }\n",
       "\n",
       "    .dataframe thead th {\n",
       "        text-align: right;\n",
       "    }\n",
       "</style>\n",
       "<table border=\"1\" class=\"dataframe\">\n",
       "  <thead>\n",
       "    <tr style=\"text-align: right;\">\n",
       "      <th></th>\n",
       "      <th>Idade</th>\n",
       "      <th>Mulheres</th>\n",
       "      <th>Homens</th>\n",
       "    </tr>\n",
       "  </thead>\n",
       "  <tbody>\n",
       "    <tr>\n",
       "      <th>0</th>\n",
       "      <td>18-24</td>\n",
       "      <td>0.239</td>\n",
       "      <td>0.125</td>\n",
       "    </tr>\n",
       "    <tr>\n",
       "      <th>1</th>\n",
       "      <td>25-34</td>\n",
       "      <td>0.195</td>\n",
       "      <td>0.158</td>\n",
       "    </tr>\n",
       "    <tr>\n",
       "      <th>2</th>\n",
       "      <td>35-44</td>\n",
       "      <td>0.142</td>\n",
       "      <td>0.048</td>\n",
       "    </tr>\n",
       "    <tr>\n",
       "      <th>3</th>\n",
       "      <td>45-54</td>\n",
       "      <td>0.039</td>\n",
       "      <td>0.018</td>\n",
       "    </tr>\n",
       "    <tr>\n",
       "      <th>4</th>\n",
       "      <td>55-64</td>\n",
       "      <td>0.016</td>\n",
       "      <td>0.008</td>\n",
       "    </tr>\n",
       "    <tr>\n",
       "      <th>5</th>\n",
       "      <td>65+</td>\n",
       "      <td>0.010</td>\n",
       "      <td>0.002</td>\n",
       "    </tr>\n",
       "  </tbody>\n",
       "</table>\n",
       "</div>"
      ],
      "text/plain": [
       "   Idade  Mulheres  Homens\n",
       "0  18-24     0.239   0.125\n",
       "1  25-34     0.195   0.158\n",
       "2  35-44     0.142   0.048\n",
       "3  45-54     0.039   0.018\n",
       "4  55-64     0.016   0.008\n",
       "5    65+     0.010   0.002"
      ]
     },
     "execution_count": 141,
     "metadata": {},
     "output_type": "execute_result"
    }
   ],
   "source": [
    "genero_idade_data"
   ]
  },
  {
   "cell_type": "code",
   "execution_count": 142,
   "id": "b9b2e4b9-20f8-46f2-a156-f97df2b592da",
   "metadata": {},
   "outputs": [
    {
     "data": {
      "text/html": [
       "<div>\n",
       "<style scoped>\n",
       "    .dataframe tbody tr th:only-of-type {\n",
       "        vertical-align: middle;\n",
       "    }\n",
       "\n",
       "    .dataframe tbody tr th {\n",
       "        vertical-align: top;\n",
       "    }\n",
       "\n",
       "    .dataframe thead th {\n",
       "        text-align: right;\n",
       "    }\n",
       "</style>\n",
       "<table border=\"1\" class=\"dataframe\">\n",
       "  <thead>\n",
       "    <tr style=\"text-align: right;\">\n",
       "      <th></th>\n",
       "      <th>Data</th>\n",
       "      <th>Primary</th>\n",
       "    </tr>\n",
       "  </thead>\n",
       "  <tbody>\n",
       "    <tr>\n",
       "      <th>0</th>\n",
       "      <td>2023-11-21</td>\n",
       "      <td>145</td>\n",
       "    </tr>\n",
       "    <tr>\n",
       "      <th>1</th>\n",
       "      <td>2023-11-22</td>\n",
       "      <td>109</td>\n",
       "    </tr>\n",
       "    <tr>\n",
       "      <th>2</th>\n",
       "      <td>2023-11-23</td>\n",
       "      <td>292</td>\n",
       "    </tr>\n",
       "    <tr>\n",
       "      <th>3</th>\n",
       "      <td>2023-11-24</td>\n",
       "      <td>237</td>\n",
       "    </tr>\n",
       "    <tr>\n",
       "      <th>4</th>\n",
       "      <td>2023-11-25</td>\n",
       "      <td>128</td>\n",
       "    </tr>\n",
       "    <tr>\n",
       "      <th>...</th>\n",
       "      <td>...</td>\n",
       "      <td>...</td>\n",
       "    </tr>\n",
       "    <tr>\n",
       "      <th>362</th>\n",
       "      <td>2024-11-17</td>\n",
       "      <td>99</td>\n",
       "    </tr>\n",
       "    <tr>\n",
       "      <th>363</th>\n",
       "      <td>2024-11-18</td>\n",
       "      <td>623</td>\n",
       "    </tr>\n",
       "    <tr>\n",
       "      <th>364</th>\n",
       "      <td>2024-11-19</td>\n",
       "      <td>52</td>\n",
       "    </tr>\n",
       "    <tr>\n",
       "      <th>365</th>\n",
       "      <td>2024-11-20</td>\n",
       "      <td>56</td>\n",
       "    </tr>\n",
       "    <tr>\n",
       "      <th>366</th>\n",
       "      <td>2024-11-21</td>\n",
       "      <td>94</td>\n",
       "    </tr>\n",
       "  </tbody>\n",
       "</table>\n",
       "<p>367 rows × 2 columns</p>\n",
       "</div>"
      ],
      "text/plain": [
       "          Data  Primary\n",
       "0   2023-11-21      145\n",
       "1   2023-11-22      109\n",
       "2   2023-11-23      292\n",
       "3   2023-11-24      237\n",
       "4   2023-11-25      128\n",
       "..         ...      ...\n",
       "362 2024-11-17       99\n",
       "363 2024-11-18      623\n",
       "364 2024-11-19       52\n",
       "365 2024-11-20       56\n",
       "366 2024-11-21       94\n",
       "\n",
       "[367 rows x 2 columns]"
      ]
     },
     "execution_count": 142,
     "metadata": {},
     "output_type": "execute_result"
    }
   ],
   "source": [
    "alcance_data"
   ]
  },
  {
   "cell_type": "code",
   "execution_count": 143,
   "id": "7e5bc56d-41e3-443c-943b-e2c696da5a41",
   "metadata": {},
   "outputs": [
    {
     "data": {
      "text/html": [
       "<div>\n",
       "<style scoped>\n",
       "    .dataframe tbody tr th:only-of-type {\n",
       "        vertical-align: middle;\n",
       "    }\n",
       "\n",
       "    .dataframe tbody tr th {\n",
       "        vertical-align: top;\n",
       "    }\n",
       "\n",
       "    .dataframe thead th {\n",
       "        text-align: right;\n",
       "    }\n",
       "</style>\n",
       "<table border=\"1\" class=\"dataframe\">\n",
       "  <thead>\n",
       "    <tr style=\"text-align: right;\">\n",
       "      <th></th>\n",
       "      <th>Principais países</th>\n",
       "      <th>Valor</th>\n",
       "    </tr>\n",
       "  </thead>\n",
       "  <tbody>\n",
       "    <tr>\n",
       "      <th>0</th>\n",
       "      <td>Brasil</td>\n",
       "      <td>0.986</td>\n",
       "    </tr>\n",
       "    <tr>\n",
       "      <th>1</th>\n",
       "      <td>Índia</td>\n",
       "      <td>0.004</td>\n",
       "    </tr>\n",
       "    <tr>\n",
       "      <th>2</th>\n",
       "      <td>Espanha</td>\n",
       "      <td>0.004</td>\n",
       "    </tr>\n",
       "    <tr>\n",
       "      <th>3</th>\n",
       "      <td>Estados Unidos</td>\n",
       "      <td>0.004</td>\n",
       "    </tr>\n",
       "    <tr>\n",
       "      <th>4</th>\n",
       "      <td>Argentina</td>\n",
       "      <td>0.002</td>\n",
       "    </tr>\n",
       "    <tr>\n",
       "      <th>5</th>\n",
       "      <td>Chile</td>\n",
       "      <td>0.002</td>\n",
       "    </tr>\n",
       "    <tr>\n",
       "      <th>6</th>\n",
       "      <td>Equador</td>\n",
       "      <td>0.002</td>\n",
       "    </tr>\n",
       "  </tbody>\n",
       "</table>\n",
       "</div>"
      ],
      "text/plain": [
       "  Principais países  Valor\n",
       "0            Brasil  0.986\n",
       "1             Índia  0.004\n",
       "2           Espanha  0.004\n",
       "3    Estados Unidos  0.004\n",
       "4         Argentina  0.002\n",
       "5             Chile  0.002\n",
       "6           Equador  0.002"
      ]
     },
     "execution_count": 143,
     "metadata": {},
     "output_type": "execute_result"
    }
   ],
   "source": [
    "paises_data"
   ]
  },
  {
   "cell_type": "code",
   "execution_count": 144,
   "id": "8876747a-d66c-4d80-b937-bb9b428cf866",
   "metadata": {},
   "outputs": [
    {
     "data": {
      "text/html": [
       "<div>\n",
       "<style scoped>\n",
       "    .dataframe tbody tr th:only-of-type {\n",
       "        vertical-align: middle;\n",
       "    }\n",
       "\n",
       "    .dataframe tbody tr th {\n",
       "        vertical-align: top;\n",
       "    }\n",
       "\n",
       "    .dataframe thead th {\n",
       "        text-align: right;\n",
       "    }\n",
       "</style>\n",
       "<table border=\"1\" class=\"dataframe\">\n",
       "  <thead>\n",
       "    <tr style=\"text-align: right;\">\n",
       "      <th></th>\n",
       "      <th>Principais cidades</th>\n",
       "      <th>Valor</th>\n",
       "    </tr>\n",
       "  </thead>\n",
       "  <tbody>\n",
       "    <tr>\n",
       "      <th>0</th>\n",
       "      <td>Santa Maria, RS</td>\n",
       "      <td>0.702</td>\n",
       "    </tr>\n",
       "    <tr>\n",
       "      <th>1</th>\n",
       "      <td>Divinópolis, MG</td>\n",
       "      <td>0.018</td>\n",
       "    </tr>\n",
       "    <tr>\n",
       "      <th>2</th>\n",
       "      <td>Pelotas, RS</td>\n",
       "      <td>0.014</td>\n",
       "    </tr>\n",
       "    <tr>\n",
       "      <th>3</th>\n",
       "      <td>Porto Alegre, RS</td>\n",
       "      <td>0.012</td>\n",
       "    </tr>\n",
       "    <tr>\n",
       "      <th>4</th>\n",
       "      <td>São Paulo, SP</td>\n",
       "      <td>0.011</td>\n",
       "    </tr>\n",
       "    <tr>\n",
       "      <th>5</th>\n",
       "      <td>Curitiba, PR</td>\n",
       "      <td>0.007</td>\n",
       "    </tr>\n",
       "    <tr>\n",
       "      <th>6</th>\n",
       "      <td>Rio de Janeiro, RJ</td>\n",
       "      <td>0.007</td>\n",
       "    </tr>\n",
       "    <tr>\n",
       "      <th>7</th>\n",
       "      <td>Cachoeira do Sul, RS</td>\n",
       "      <td>0.007</td>\n",
       "    </tr>\n",
       "    <tr>\n",
       "      <th>8</th>\n",
       "      <td>Florianópolis, SC</td>\n",
       "      <td>0.005</td>\n",
       "    </tr>\n",
       "    <tr>\n",
       "      <th>9</th>\n",
       "      <td>Viamão, RS</td>\n",
       "      <td>0.005</td>\n",
       "    </tr>\n",
       "  </tbody>\n",
       "</table>\n",
       "</div>"
      ],
      "text/plain": [
       "     Principais cidades  Valor\n",
       "0       Santa Maria, RS  0.702\n",
       "1       Divinópolis, MG  0.018\n",
       "2           Pelotas, RS  0.014\n",
       "3      Porto Alegre, RS  0.012\n",
       "4         São Paulo, SP  0.011\n",
       "5          Curitiba, PR  0.007\n",
       "6    Rio de Janeiro, RJ  0.007\n",
       "7  Cachoeira do Sul, RS  0.007\n",
       "8     Florianópolis, SC  0.005\n",
       "9            Viamão, RS  0.005"
      ]
     },
     "execution_count": 144,
     "metadata": {},
     "output_type": "execute_result"
    }
   ],
   "source": [
    "cidades_data"
   ]
  },
  {
   "cell_type": "code",
   "execution_count": 145,
   "id": "e1147d5c-4f06-4df8-b674-a1d539e5b9e4",
   "metadata": {},
   "outputs": [
    {
     "data": {
      "text/html": [
       "<div>\n",
       "<style scoped>\n",
       "    .dataframe tbody tr th:only-of-type {\n",
       "        vertical-align: middle;\n",
       "    }\n",
       "\n",
       "    .dataframe tbody tr th {\n",
       "        vertical-align: top;\n",
       "    }\n",
       "\n",
       "    .dataframe thead th {\n",
       "        text-align: right;\n",
       "    }\n",
       "</style>\n",
       "<table border=\"1\" class=\"dataframe\">\n",
       "  <thead>\n",
       "    <tr style=\"text-align: right;\">\n",
       "      <th></th>\n",
       "      <th>Data</th>\n",
       "      <th>Primary</th>\n",
       "    </tr>\n",
       "  </thead>\n",
       "  <tbody>\n",
       "    <tr>\n",
       "      <th>0</th>\n",
       "      <td>2023-11-21</td>\n",
       "      <td>13</td>\n",
       "    </tr>\n",
       "    <tr>\n",
       "      <th>1</th>\n",
       "      <td>2023-11-22</td>\n",
       "      <td>4</td>\n",
       "    </tr>\n",
       "    <tr>\n",
       "      <th>2</th>\n",
       "      <td>2023-11-23</td>\n",
       "      <td>8</td>\n",
       "    </tr>\n",
       "    <tr>\n",
       "      <th>3</th>\n",
       "      <td>2023-11-24</td>\n",
       "      <td>6</td>\n",
       "    </tr>\n",
       "    <tr>\n",
       "      <th>4</th>\n",
       "      <td>2023-11-25</td>\n",
       "      <td>29</td>\n",
       "    </tr>\n",
       "    <tr>\n",
       "      <th>...</th>\n",
       "      <td>...</td>\n",
       "      <td>...</td>\n",
       "    </tr>\n",
       "    <tr>\n",
       "      <th>362</th>\n",
       "      <td>2024-11-17</td>\n",
       "      <td>1</td>\n",
       "    </tr>\n",
       "    <tr>\n",
       "      <th>363</th>\n",
       "      <td>2024-11-18</td>\n",
       "      <td>15</td>\n",
       "    </tr>\n",
       "    <tr>\n",
       "      <th>364</th>\n",
       "      <td>2024-11-19</td>\n",
       "      <td>5</td>\n",
       "    </tr>\n",
       "    <tr>\n",
       "      <th>365</th>\n",
       "      <td>2024-11-20</td>\n",
       "      <td>0</td>\n",
       "    </tr>\n",
       "    <tr>\n",
       "      <th>366</th>\n",
       "      <td>2024-11-21</td>\n",
       "      <td>1</td>\n",
       "    </tr>\n",
       "  </tbody>\n",
       "</table>\n",
       "<p>367 rows × 2 columns</p>\n",
       "</div>"
      ],
      "text/plain": [
       "          Data  Primary\n",
       "0   2023-11-21       13\n",
       "1   2023-11-22        4\n",
       "2   2023-11-23        8\n",
       "3   2023-11-24        6\n",
       "4   2023-11-25       29\n",
       "..         ...      ...\n",
       "362 2024-11-17        1\n",
       "363 2024-11-18       15\n",
       "364 2024-11-19        5\n",
       "365 2024-11-20        0\n",
       "366 2024-11-21        1\n",
       "\n",
       "[367 rows x 2 columns]"
      ]
     },
     "execution_count": 145,
     "metadata": {},
     "output_type": "execute_result"
    }
   ],
   "source": [
    "visitas_data"
   ]
  },
  {
   "cell_type": "code",
   "execution_count": 146,
   "id": "c3aad8ed-71b0-4dbb-995b-9388567890f3",
   "metadata": {},
   "outputs": [],
   "source": [
    "genero_idade_data['Total'] = genero_idade_data.Mulheres + genero_idade_data.Homens"
   ]
  },
  {
   "cell_type": "code",
   "execution_count": 224,
   "id": "86b3fcfc-518a-4364-9b36-40a057e23fd7",
   "metadata": {},
   "outputs": [
    {
     "name": "stderr",
     "output_type": "stream",
     "text": [
      "/tmp/ipykernel_37425/4242775388.py:26: UserWarning: This figure includes Axes that are not compatible with tight_layout, so results might be incorrect.\n",
      "  fig.tight_layout()\n",
      "/tmp/ipykernel_37425/4242775388.py:28: UserWarning: FigureCanvasAgg is non-interactive, and thus cannot be shown\n",
      "  fig.show()\n"
     ]
    },
    {
     "data": {
      "image/png": "[encoded data removed]",
      "text/plain": [
       "<Figure size 600x400 with 2 Axes>"
      ]
     },
     "metadata": {},
     "output_type": "display_data"
    }
   ],
   "source": [
    "fig, ax = plt.subplots(figsize=(6, 4))\n",
    "x = np.arange(len(genero_idade_data.Idade))\n",
    "\n",
    "labels='Homens','Mulheres'\n",
    "sizes = [genero_idade_data.Homens.sum(),genero_idade_data.Mulheres.sum()]\n",
    "\n",
    "ax.bar(x-0.25,genero_idade_data.Total,width=0.25,label='Total')\n",
    "ax.bar(x,genero_idade_data.Mulheres,width=0.25,label='Mulheres',color='#e9c46a')\n",
    "ax.bar(x+0.25,genero_idade_data.Homens,width=0.25,label='Homens',color='#2a9d8f')\n",
    "ax.set_xticks(x,labels=genero_idade_data.Idade.values,fontsize=16)\n",
    "#vals = pkt.get_yticks()\n",
    "#plt.yticklabels(['{:,.2%}'.format(x) for x in vals])\n",
    "ax.set_yticks(np.linspace(0,0.4,5),labels=[\"0%\",\"10%\",\"20%\",\"30%\",\"40%\"],fontsize=14)\n",
    "plt.gca().yaxis.set_major_formatter(mtick.PercentFormatter(1))\n",
    "#plt.ylabel('Porcentagem',fontsize=14)\n",
    "\n",
    "ax_inset = inset_axes(ax, width=\"40%\", height=\"40%\", loc='center right')\n",
    "ax_inset.pie(sizes, labels=labels, autopct='%1.1f%%',wedgeprops=dict(width=1, edgecolor='w'),startangle=295,colors=['#2a9d8f','#e9c46a'])\n",
    "#ax_inset.set_title('Distribuição Absoluta', fontsize=10)\n",
    "ax_inset.tick_params(axis='x', labelsize=8)\n",
    "ax_inset.tick_params(axis='y', labelsize=8)\n",
    "\n",
    "ax.set_xlabel(\"Faixa etária [anos]\",fontsize=14)\n",
    "ax.legend(fontsize=14)\n",
    "ax.grid(alpha=0.3)\n",
    "fig.tight_layout()\n",
    "plt.savefig('distribuicao_etaria.png',dpi=300)\n",
    "fig.show()"
   ]
  },
  {
   "cell_type": "code",
   "execution_count": 176,
   "id": "a6ae264b-11e6-43ed-a02f-64bade3e2ae0",
   "metadata": {},
   "outputs": [
    {
     "data": {
      "image/png": "[encoded data removed]",
      "text/plain": [
       "<Figure size 600x400 with 1 Axes>"
      ]
     },
     "metadata": {},
     "output_type": "display_data"
    }
   ],
   "source": [
    "labels='Homens','Mulheres'\n",
    "sizes = [genero_idade_data.Homens.sum(),genero_idade_data.Mulheres.sum()]\n",
    "\n",
    "fig, ax = plt.subplots(figsize=(6,4))\n",
    "ax.pie(sizes, labels=labels, autopct='%1.1f%%',wedgeprops=dict(width=1, edgecolor='w'))\n",
    "\n",
    "plt.show()"
   ]
  },
  {
   "cell_type": "code",
   "execution_count": 182,
   "id": "400bfbe0-8c85-47be-b9d7-fe9678165bdc",
   "metadata": {},
   "outputs": [
    {
     "data": {
      "image/png": "[encoded data removed]",
      "text/plain": [
       "<Figure size 600x400 with 1 Axes>"
      ]
     },
     "metadata": {},
     "output_type": "display_data"
    }
   ],
   "source": [
    "fig, ax = plt.subplots(figsize=(6,4))\n",
    "ax.pie(genero_idade_data.Total, labels=genero_idade_data.Idade.values, autopct='%1.1f%%',wedgeprops=dict(width=1, edgecolor='w'))\n",
    "\n",
    "plt.show()"
   ]
  },
  {
   "cell_type": "code",
   "execution_count": 183,
   "id": "a6f2e4a0-d26f-4b95-a29e-b16c5ae99626",
   "metadata": {},
   "outputs": [
    {
     "name": "stderr",
     "output_type": "stream",
     "text": [
      "/tmp/ipykernel_37425/2582822003.py:22: UserWarning: This figure includes Axes that are not compatible with tight_layout, so results might be incorrect.\n",
      "  plt.tight_layout()\n"
     ]
    },
    {
     "data": {
      "image/png": "[encoded data removed]",
      "text/plain": [
       "<Figure size 600x400 with 2 Axes>"
      ]
     },
     "metadata": {},
     "output_type": "display_data"
    }
   ],
   "source": [
    "import matplotlib.pyplot as plt\n",
    "\n",
    "# Dados\n",
    "labels = ['Homens', 'Mulheres']\n",
    "sizes = [genero_idade_data.Homens.sum(), genero_idade_data.Mulheres.sum()]\n",
    "\n",
    "# Criando a figura principal\n",
    "fig, ax = plt.subplots(figsize=(6, 4))\n",
    "ax.pie(sizes, labels=labels, autopct='%1.1f%%', wedgeprops=dict(width=1, edgecolor='w'))\n",
    "\n",
    "# Criando o inset\n",
    "from mpl_toolkits.axes_grid1.inset_locator import inset_axes\n",
    "\n",
    "# Localizando o inset no canto superior direito\n",
    "ax_inset = inset_axes(ax, width=\"40%\", height=\"40%\", loc='upper right')\n",
    "ax_inset.bar(labels, sizes, color=['blue', 'pink'])\n",
    "ax_inset.set_title('Distribuição Absoluta', fontsize=10)\n",
    "ax_inset.tick_params(axis='x', labelsize=8)\n",
    "ax_inset.tick_params(axis='y', labelsize=8)\n",
    "\n",
    "# Exibindo o gráfico\n",
    "plt.tight_layout()\n",
    "plt.show()"
   ]
  },
  {
   "cell_type": "code",
   "execution_count": null,
   "id": "b400f6d8-f2fb-4604-9ae9-c604d6f53831",
   "metadata": {},
   "outputs": [],
   "source": []
  }
 ],
 "metadata": {
  "kernelspec": {
   "display_name": "Python 3 (ipykernel)",
   "language": "python",
   "name": "python3"
  },
  "language_info": {
   "codemirror_mode": {
    "name": "ipython",
    "version": 3
   },
   "file_extension": ".py",
   "mimetype": "text/x-python",
   "name": "python",
   "nbconvert_exporter": "python",
   "pygments_lexer": "ipython3",
   "version": "3.10.12"
  }
 },
 "nbformat": 4,
 "nbformat_minor": 5
}
